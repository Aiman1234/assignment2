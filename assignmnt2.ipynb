{
 "cells": [
  {
   "cell_type": "code",
   "execution_count": 6,
   "metadata": {
    "scrolled": true
   },
   "outputs": [
    {
     "name": "stdout",
     "output_type": "stream",
     "text": [
      "Enter marks of the first subject: 54\n",
      "Enter marks of the first subject: 65\n",
      "Enter marks of the first subject: 345\n",
      "Enter marks of the first subject: 65\n",
      "Enter marks of the first subject: 45\n",
      "574\n",
      "114.8\n",
      "Grade: A\n"
     ]
    }
   ],
   "source": [
    "maths=int(input(\"Enter marks of the first subject: \"))\n",
    "eng=int(input(\"Enter marks of the first subject: \"))\n",
    "urdu=int(input(\"Enter marks of the first subject: \"))\n",
    "pst=int(input(\"Enter marks of the first subject: \"))\n",
    "bio=int(input(\"Enter marks of the first subject: \"))\n",
    "total = (maths + eng + urdu + pst + bio)\n",
    "print(total)\n",
    "avg = (maths + eng + urdu + pst + bio)/5\n",
    "print( avg)\n",
    "if(avg>=90):\n",
    "    print(\"Grade: A\")\n",
    "elif(avg>=80&avg<90):\n",
    "    print(\"Grade: B\")\n",
    "elif(avg>=70&avg<80):\n",
    "    print(\"Grade: C\")\n",
    "elif(avg>=60&avg<70):\n",
    "    print(\"Grade: D\")\n",
    "else:\n",
    "    print(\"Grade: F\")\n",
    "\n"
   ]
  },
  {
   "cell_type": "code",
   "execution_count": 13,
   "metadata": {},
   "outputs": [
    {
     "name": "stdout",
     "output_type": "stream",
     "text": [
      "enter ur number please :7\n",
      "7 is odd\n"
     ]
    }
   ],
   "source": [
    "num = int(input(\"enter ur number please :\"))\n",
    "if (num % 2) == 0:\n",
    "\n",
    "   print(\"{0} is Even\".format(num))\n",
    "else:\n",
    "\n",
    "   print(\"{0} is odd\".format(num))\n"
   ]
  },
  {
   "cell_type": "code",
   "execution_count": 16,
   "metadata": {},
   "outputs": [
    {
     "name": "stdout",
     "output_type": "stream",
     "text": [
      "['aiman', 'asma', 'kanwal', 'nehad', 'salman']\n"
     ]
    },
    {
     "data": {
      "text/plain": [
       "5"
      ]
     },
     "execution_count": 16,
     "metadata": {},
     "output_type": "execute_result"
    }
   ],
   "source": [
    "aim = [\"aiman\",\"asma\",\"kanwal\",\"nehad\",\"salman\"]\n",
    "print(aim)\n",
    "len(aim)"
   ]
  },
  {
   "cell_type": "code",
   "execution_count": 3,
   "metadata": {},
   "outputs": [
    {
     "name": "stdout",
     "output_type": "stream",
     "text": [
      "87\n"
     ]
    }
   ],
   "source": [
    "sal = \"23\",\"43\",\"54\",\"65\" ,\"76\",\"87\",\"65\",\"87\",\"65\"\n",
    "print(max(sal))"
   ]
  },
  {
   "cell_type": "code",
   "execution_count": 5,
   "metadata": {},
   "outputs": [
    {
     "name": "stdout",
     "output_type": "stream",
     "text": [
      "1\n",
      "1\n",
      "2\n",
      "3\n"
     ]
    }
   ],
   "source": [
    "aim = [1,1,2,3,5,6,7,8]\n",
    "for i in aim:\n",
    "    if i < 5:\n",
    "        print(i)\n"
   ]
  },
  {
   "cell_type": "code",
   "execution_count": null,
   "metadata": {},
   "outputs": [],
   "source": []
  }
 ],
 "metadata": {
  "kernelspec": {
   "display_name": "Python 3",
   "language": "python",
   "name": "python3"
  },
  "language_info": {
   "codemirror_mode": {
    "name": "ipython",
    "version": 3
   },
   "file_extension": ".py",
   "mimetype": "text/x-python",
   "name": "python",
   "nbconvert_exporter": "python",
   "pygments_lexer": "ipython3",
   "version": "3.7.4"
  }
 },
 "nbformat": 4,
 "nbformat_minor": 2
}
